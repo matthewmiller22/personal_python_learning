{
 "cells": [
  {
   "cell_type": "markdown",
   "metadata": {},
   "source": [
    "#### We want to add in command line arguments with the `argparse` module:\n",
    "\n",
    "Say we want to calculate the volume of a cylinder. We start as follows:\n",
    "\n",
    "*Source: https://www.youtube.com/watch?v=cdblJqEUDNo"
   ]
  },
  {
   "cell_type": "code",
   "execution_count": 2,
   "metadata": {},
   "outputs": [
    {
     "name": "stdout",
     "output_type": "stream",
     "text": [
      "50.26548245743669\n"
     ]
    }
   ],
   "source": [
    "import math\n",
    "def cylinder_volume(radius,height):\n",
    "    vol = (math.pi)*(radius**2)*(height)\n",
    "    return vol\n",
    "if __name__=='__main__':\n",
    "    print(cylinder_volume(2,4))"
   ]
  },
  {
   "cell_type": "markdown",
   "metadata": {},
   "source": [
    "Now let's try this again with `argparse`. The steps will go as follows:\n",
    "\n",
    "1) Create an `argparse.ArgumentParser()` object, which is essentially a container for all of our arguments.\n",
    "\n",
    "2) Give it a description\n",
    "\n",
    "3) continually add arguments with the steps you will see below\n",
    "\n",
    "4) Parse the args"
   ]
  },
  {
   "cell_type": "code",
   "execution_count": 10,
   "metadata": {},
   "outputs": [
    {
     "name": "stderr",
     "output_type": "stream",
     "text": [
      "usage: ipykernel_launcher.py [-h] -r  -H\n",
      "ipykernel_launcher.py: error: the following arguments are required: -r/--radius, -H/--height\n"
     ]
    },
    {
     "ename": "SystemExit",
     "evalue": "2",
     "output_type": "error",
     "traceback": [
      "An exception has occurred, use %tb to see the full traceback.\n",
      "\u001b[0;31mSystemExit\u001b[0m\u001b[0;31m:\u001b[0m 2\n"
     ]
    }
   ],
   "source": [
    "import argparse\n",
    "#step 1/2\n",
    "parser = argparse.ArgumentParser(description='Calculate volume of a cylinder')\n",
    "#step 3: note that you need a long name, don't necessary need a short name for your flag\n",
    "parser.add_argument('-r','--radius',type=int,metavar='',required=True,help='Radius')\n",
    "parser.add_argument('-H','--height',type=int,metavar='',required=True,help='Height')\n",
    "#step 4 above:\n",
    "args = parser.parse_args()\n",
    "\n",
    "\n",
    "def cylinder_volume(radius,height):\n",
    "    vol = (math.pi)*(radius**2)*(height)\n",
    "    return vol\n",
    "\n",
    "if __name__=='__main__':\n",
    "    print(cylinder_volume(args.radius,args.height))"
   ]
  },
  {
   "cell_type": "markdown",
   "metadata": {},
   "source": [
    "### Again...\n",
    "we can't actually run this from a JupyterNotebook. But, check the `arg_parser.py` file in this same directory and run it from the command line to see it at work. Nice!\n",
    "\n",
    "##### Some additional notes aboe the above:\n",
    "In the `.add_parser()` method, `metavar= ''` is meant to clean up the help menu from the command line. \n",
    "\n",
    "Additionally, `required=True` makes it so that a given command line argument is required. This is useful because, of course, some command line arguments are only optional. "
   ]
  },
  {
   "cell_type": "code",
   "execution_count": null,
   "metadata": {},
   "outputs": [],
   "source": []
  }
 ],
 "metadata": {
  "kernelspec": {
   "display_name": "Python 3",
   "language": "python",
   "name": "python3"
  },
  "language_info": {
   "codemirror_mode": {
    "name": "ipython",
    "version": 3
   },
   "file_extension": ".py",
   "mimetype": "text/x-python",
   "name": "python",
   "nbconvert_exporter": "python",
   "pygments_lexer": "ipython3",
   "version": "3.7.4"
  }
 },
 "nbformat": 4,
 "nbformat_minor": 2
}
